{
  "nbformat": 4,
  "nbformat_minor": 0,
  "metadata": {
    "colab": {
      "provenance": []
    },
    "kernelspec": {
      "name": "ir",
      "display_name": "R"
    },
    "language_info": {
      "name": "R"
    }
  },
  "cells": [
    {
      "cell_type": "markdown",
      "source": [
        "# Zadanie - Pobieranie danych z OECD\n",
        "\n",
        "W tym zadaniu wykorzystamy funkcję łączące oraz paczkę pobierającą dane z OECD.\n",
        "\n",
        "Jej instalację uruchomi nastepująca komenda:"
      ],
      "metadata": {
        "id": "y0q6Hg2FONIO"
      }
    },
    {
      "cell_type": "code",
      "source": [
        "remotes::install_github(\"https://github.com/expersso/OECD\")"
      ],
      "metadata": {
        "id": "qQDT_kswOM36"
      },
      "execution_count": null,
      "outputs": []
    },
    {
      "cell_type": "markdown",
      "source": [
        "Następnie załączamy bibliotekę tidyverse oraz paczkę OECD:"
      ],
      "metadata": {
        "id": "xLgT4KrsOkyn"
      }
    },
    {
      "cell_type": "code",
      "execution_count": null,
      "metadata": {
        "id": "1T-cGwEAOL5r"
      },
      "outputs": [],
      "source": [
        "require(\"OECD\")\n",
        "require(\"dplyr\")"
      ]
    },
    {
      "cell_type": "markdown",
      "source": [
        "# Zadanie 1:\n",
        "Przejdź krok po kroku quickstart w paczce OECD:"
      ],
      "metadata": {
        "id": "Ea2rmAAyOzFf"
      }
    },
    {
      "cell_type": "code",
      "source": [],
      "metadata": {
        "id": "ROgJIn7YO5jA"
      },
      "execution_count": null,
      "outputs": []
    }
  ]
}